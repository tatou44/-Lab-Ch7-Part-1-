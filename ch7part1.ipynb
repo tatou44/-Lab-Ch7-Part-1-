{
 "cells": [
  {
   "cell_type": "markdown",
   "metadata": {},
   "source": [
    "<style>\n",
    "\th1 {\n",
    "\t--\tbackground-color: grey;\n",
    "\t\tcolor: yellow\n",
    "\t\tborder: 3px solid grey\n",
    "\n",
    "\t}\n",
    "\tp {\n",
    "\t\tbackground-color: grey;\n",
    "\t\tcolor: white\n",
    "\t\tborder: 3px solid grey\n",
    "\n",
    "\t}\n",
    "</style>\n",
    "<h1> Chapter 7 List: Part 1</h1>"
   ]
  },
  {
   "cell_type": "markdown",
   "metadata": {},
   "source": [
    "<p style=\"margin-left:40px\"> 7.1 Basic Examples of List</p>\n",
    "\n",
    "<p style=\"margin-left:40px\"> 7.2 Understanding the \"Mutable Data Type\" </p>\n",
    "\n",
    "<p style=\"margin-left:40px\"> 7.3 Handing the list index out of range error </p>\n",
    "\n",
    "<p style=\"margin-left:40px\"> 7.4 List of List </p>\n",
    "\n",
    "<p style=\"margin-left:40px\"> 7.5 any() and all() </p>\n"
   ]
  },
  {
   "cell_type": "markdown",
   "metadata": {},
   "source": [
    "***\n",
    "\n",
    "## <p style=\"background-color: grey; color: white \"> ◼️  List </p>\n",
    "# <p style=\"font-family: Arial; font-size:1.4em;color:red;\"> 1. Basic Examples of List</p>\n"
   ]
  },
  {
   "cell_type": "markdown",
   "metadata": {},
   "source": [
    "<style>\n",
    "\th3{\n",
    "\t\tbackground-color: grey\n",
    "\t\tcolor: white\n",
    "\t}\n",
    "</style>\n",
    "\n",
    "<h1> Understanding the \"Mutable Data Type\"  </h1>\n",
    "\n",
    "- Run all the following code cells and check out the result of code segments"
   ]
  },
  {
   "cell_type": "markdown",
   "metadata": {},
   "source": [
    "#### <p style=\"font-family: Arial; font-size:1.4em; background-color: yellow; color:black;\"> Problem #1.0 </p>\n",
    "\n",
    "#### Run all the cells and figure out the Mutal Data Type "
   ]
  },
  {
   "cell_type": "markdown",
   "metadata": {},
   "source": [
    "### What is the value of numbers1 after run the following code cell?"
   ]
  },
  {
   "cell_type": "code",
   "execution_count": 1,
   "metadata": {},
   "outputs": [
    {
     "data": {
      "text/plain": [
       "[6, 7]"
      ]
     },
     "execution_count": 1,
     "metadata": {},
     "output_type": "execute_result"
    }
   ],
   "source": [
    "numbers1 = [1,2,3,4,5,6,7]\n",
    "numbers2 = numbers1   # list numbers2 is a copy of the list numbers1 \n",
    "\n",
    "del numbers2[:5]      # slicing numbers2 at index 5, than delete the sliced part from the list numbers2 which numbers1.  \n",
    "numbers1              # will print the remaining numbers in the list numbers1, which is the list: [6, 7]"
   ]
  },
  {
   "cell_type": "markdown",
   "metadata": {},
   "source": [
    "#### <p style=\"font-family: Arial; font-size:1.4em; background-color: yellow; color:black;\"> Problem #1.1 </p>\n",
    "\n",
    "#### Figure out the difference between the following two code segments\n",
    "\n",
    "#### The first code segment: \n",
    "- the number is integer value in the function. \n",
    "- The value of the number is changed by the function\n",
    "- Check the value in the caller function main()\n",
    "- The change of the value of the number is not reflected in the caller function\n",
    "\n",
    "#### The second code segment:\n",
    "- The list is a mutable data type\n",
    "- The value of the list is changed by the function\n",
    "- Check the value in the caller function main()\n",
    "- The change of the value of the list is reflected in the caller function\n",
    "\n",
    "## Explain the output of the following code segments. <br> Elaborate the reason why the output is as such."
   ]
  },
  {
   "cell_type": "code",
   "execution_count": 2,
   "metadata": {},
   "outputs": [
    {
     "name": "stdout",
     "output_type": "stream",
     "text": [
      "number in main(): -1\n"
     ]
    }
   ],
   "source": [
    "# 1- parameter number is INTEGER:\n",
    "\n",
    "def myfuntion(number):\n",
    "    number = 100      # modifying the original value inside myfunction after the call.      \n",
    "\n",
    "number = -1           # original argument value is integer\n",
    "myfuntion(number)\n",
    "print ('number in main():', number)\n",
    "# number in main(): -1. Change of the value of the number is not reflected in the caller function\n",
    "\n",
    "# Since integers are of type immutable  "
   ]
  },
  {
   "cell_type": "code",
   "execution_count": 3,
   "metadata": {},
   "outputs": [
    {
     "name": "stdout",
     "output_type": "stream",
     "text": [
      "numbers in main(): [100]\n"
     ]
    }
   ],
   "source": [
    "# 2- parameter number is LIST:\n",
    "\n",
    "def myfunction(numbers):\n",
    "    numbers[0] = 100\n",
    "\n",
    "numbers = [-1]\n",
    "myfunction(numbers)\n",
    "print ('numbers in main():', numbers)\n",
    "# numbers in main(): [100]. Change of the value of the list is reflected in the caller function\n",
    "\n",
    "# Since list are of type mutable "
   ]
  },
  {
   "cell_type": "markdown",
   "metadata": {},
   "source": [
    "#### <p style=\"font-family: Arial; font-size:1.4em; background-color: yellow; color:black;\"> Problem #1.2 </p>\n",
    "\n",
    "#### List the other data types that are working as the same way as the list in the above code segments. \n",
    "### Choose the data types from the following list: \n",
    "- String\n",
    "- Tuple\n",
    "- Dictionary\n",
    "- Set\n",
    "\n",
    "- int\n",
    "- float\n",
    "- boolean\n",
    "\n"
   ]
  },
  {
   "cell_type": "markdown",
   "metadata": {},
   "source": [
    "other mutable type: dictionary and set. "
   ]
  },
  {
   "cell_type": "markdown",
   "metadata": {},
   "source": [
    "#### <p style=\"font-family: Arial; font-size:1.4em; background-color: yellow; color:black;\"> Problem #1.3 </p>\n",
    "\n",
    "#### Review the following methods of the list data type. \n",
    "- append()\n",
    "- extend()\n",
    "- insert()\n",
    "- remove()\n",
    "- sort()\n",
    "- reverse()\n",
    "- pop()\n",
    "- count()\n",
    "- index()\n",
    "- copy()\n",
    "- clear() \n",
    "\n",
    "\n"
   ]
  },
  {
   "cell_type": "markdown",
   "metadata": {},
   "source": [
    "## Concatenation of the List\n",
    "```\n",
    "n1 = [1,2,3]\n",
    "n2 = [4,5,6]\n",
    "```\n",
    "\n",
    "### complete your code here to concatenate the two lists"
   ]
  },
  {
   "cell_type": "code",
   "execution_count": 4,
   "metadata": {},
   "outputs": [
    {
     "name": "stdout",
     "output_type": "stream",
     "text": [
      "[1, 2, 3, 4, 5, 6]\n"
     ]
    }
   ],
   "source": [
    "# your code here:\n",
    "n1 = [1, 2, 3]\n",
    "n2 = [4, 5, 6]\n",
    "# concatienate n1 and n2:\n",
    "n1.extend(n2)\n",
    "print(n1)"
   ]
  },
  {
   "cell_type": "markdown",
   "metadata": {},
   "source": [
    "## Sort the list in the descending order\n",
    "```\n",
    "import random\n",
    "numbers = random.sample(range(1,100), 10)\n",
    "print (numbers)\n",
    "```\n",
    "\n",
    "### complete your code here to sort the list in the descending order\n",
    "\n"
   ]
  },
  {
   "cell_type": "code",
   "execution_count": 8,
   "metadata": {},
   "outputs": [
    {
     "name": "stdout",
     "output_type": "stream",
     "text": [
      "A random list:  [42, 85, 34, 39, 56, 82, 50, 84, 36, 16]\n",
      "Sorted list:  [16, 34, 36, 39, 42, 50, 56, 82, 84, 85]\n",
      "Reversed list:  [85, 84, 82, 56, 50, 42, 39, 36, 34, 16]\n"
     ]
    }
   ],
   "source": [
    "import random\n",
    "numbers = random.sample(range(1, 100), 10)\n",
    "print('A random list: ', numbers)\n",
    "\n",
    "# sort the list 'numbers': \n",
    "numbers.sort()\n",
    "print('Sorted list: ', numbers)\n",
    "# reverse the list numbers:\n",
    "numbers.reverse()\n",
    "print('Reversed list: ', numbers)"
   ]
  },
  {
   "cell_type": "markdown",
   "metadata": {},
   "source": [
    "## Figoure out the difference between the following statements\n",
    "```\n",
    "numbers1 = [1,2,3,4,5,6,7,8,9,10]\n",
    "numbers2 = numbers1\n",
    "numbers3 = number1[:]\n",
    "numbers4 = number1.copy()\n",
    "```\n",
    "\n",
    "### complete your code here to test the above statements\n",
    "### Make some changes to the list numbers1 and check the output of numbers2, numbers3, and numbers4\n",
    "### Elaborate the reason why the output is as such. \n",
    "\n",
    "\n"
   ]
  },
  {
   "cell_type": "code",
   "execution_count": 16,
   "metadata": {},
   "outputs": [
    {
     "name": "stdout",
     "output_type": "stream",
     "text": [
      "[1, 2, 3, 4, 5, 6, 7, 8, 9]\n",
      "100503296\n",
      "[1, 2, 3, 4, 5, 6, 7, 8, 9]\n",
      "100503296\n",
      "[1, 2, 3, 4, 5, 6, 7, 8, 9]\n",
      "135916480\n",
      "[1, 2, 3, 4, 5, 6, 7, 8, 9]\n",
      "100329792\n"
     ]
    }
   ],
   "source": [
    "numbers1 = [1, 2, 3, 4, 5, 6, 7, 8, 9 , 10]\n",
    "# making change to number1:\n",
    "numbers1.pop(9)            # poping the last element from numbers1 \n",
    "\n",
    "numbers2 = numbers1        # assign value of numbers1 to numbers2, any change in numbers1 affect numbers2, same reference, both variables point to the same address memory.  \n",
    "\n",
    "numbers3 = numbers1[:]     # making a shallow copy by slicing numbers1 and assign it to the list numbers3\n",
    "\n",
    "numbers4 = numbers1.copy() # making a shallow copy of the numbers1 using the method copy() , than asign it to numbers4\n",
    "\n",
    " \n",
    "print(numbers1)\n",
    "print(id(numbers1))\n",
    "\n",
    "print(numbers2)\n",
    "print(id(numbers2))\n",
    "\n",
    "print(numbers3)\n",
    "print(id(numbers3))\n",
    "\n",
    "print(numbers4)\n",
    "print(id(numbers4))\n",
    "\n",
    "# in conclusion all out put will be same for , numbers1, numbers2, numbers3 and numbers4,any change made in numbers1 will affect numbers2, numbers3, numbers4. \n",
    "# however numbers1 and numbers2 same variable with the same address memory, but numbers3 and numbers4 are shallow copies of numbers1,\n",
    "# they are also new variables of lists with different address memories, carring same values of the list numbers1. "
   ]
  },
  {
   "cell_type": "markdown",
   "metadata": {},
   "source": [
    "<mark> Save your file by pressing \"Ctrl+S\" or \"git commit -m \"your message\"\" </mark> "
   ]
  },
  {
   "cell_type": "markdown",
   "metadata": {},
   "source": [
    "***\n",
    "\n",
    "## <p style=\"background-color: grey; color: white \"> ◼️  List </p>\n",
    "# <p style=\"font-family: Arial; font-size:1.4em;color:red;\"> 2. Understanding the \"Immutable Data Type\" </p>\n"
   ]
  },
  {
   "cell_type": "markdown",
   "metadata": {},
   "source": [
    "# Object Identity\n",
    "- this specific memory address is what you’ll know as the object’s identity. \n",
    "- This identity is a unique identifier that distinguishes one object from others.\n",
    "- You can use the id() function to find out the identity of an object.\n",
    "\n",
    "\n",
    "\n",
    "\n",
    "\n",
    "\n",
    "\n"
   ]
  },
  {
   "cell_type": "markdown",
   "metadata": {},
   "source": [
    "#### <p style=\"font-family: Arial; font-size:1.4em; background-color: yellow; color:black;\"> Problem #2.0 </p>"
   ]
  },
  {
   "cell_type": "markdown",
   "metadata": {},
   "source": [
    "### Even you use the same value, the identity of the object is different.\n",
    "### Because the integer is an immutable data type. \n",
    "\n",
    "#### Run the following code segment and figure out the identity of the object"
   ]
  },
  {
   "cell_type": "code",
   "execution_count": 17,
   "metadata": {},
   "outputs": [
    {
     "data": {
      "text/plain": [
       "8791263422528"
      ]
     },
     "execution_count": 17,
     "metadata": {},
     "output_type": "execute_result"
    }
   ],
   "source": [
    "num: int = 10\n",
    "\n",
    "id(num)"
   ]
  },
  {
   "cell_type": "code",
   "execution_count": 20,
   "metadata": {},
   "outputs": [
    {
     "data": {
      "text/plain": [
       "8791263422848"
      ]
     },
     "execution_count": 20,
     "metadata": {},
     "output_type": "execute_result"
    }
   ],
   "source": [
    "num = 20    # The identity of the object is different even if you use the same variable \n",
    "id(num)\n",
    "\n",
    "# the identity of 'num' variable with value 10 and value 20 are differnets, because both values are\n",
    "# integers which is immutable data type, two different objects with different address memory. "
   ]
  },
  {
   "cell_type": "markdown",
   "metadata": {},
   "source": [
    "#### <p style=\"font-family: Arial; font-size:1.4em; background-color: yellow; color:black;\"> Problem #2.1 </p>"
   ]
  },
  {
   "cell_type": "markdown",
   "metadata": {},
   "source": [
    "### For the list data type, the identity of the object is the same.\n",
    "### Because the list is a mutable data type. \n",
    "\n",
    "#### Run the following code segment and figure out the identity of the list numbers1 and numbers2\n",
    "#### Elaborate the reason why the identity of the list is the same. "
   ]
  },
  {
   "cell_type": "code",
   "execution_count": 21,
   "metadata": {},
   "outputs": [
    {
     "name": "stdout",
     "output_type": "stream",
     "text": [
      "100516608 100516608\n"
     ]
    }
   ],
   "source": [
    "numbers1 = [1,2,3]\n",
    "numbers2 = numbers1   # assign value of numbers1 to numbers2,\n",
    "# any change in numbers1 affect numbers2, same reference,\n",
    "# both variables point to the same address memory.\n",
    "\n",
    "print (id(numbers1), id(numbers2))\n",
    "# The identity of the object is the same.because list are mutable data type,\n",
    "# at this instant, numbers1 and nubers2 have same values, same list, and same object at the same address memory with the same identity."
   ]
  },
  {
   "cell_type": "markdown",
   "metadata": {},
   "source": [
    "#### <p style=\"font-family: Arial; font-size:1.4em; background-color: yellow; color:black;\"> Problem #2.2 </p>"
   ]
  },
  {
   "cell_type": "markdown",
   "metadata": {},
   "source": [
    "### In function call, the identities of the list are the same.  \n",
    "### Because the list is a mutable data type. \n",
    "```\n",
    "def myfunction(numbers):\n",
    "    numbers[0] = 100\n",
    "\n",
    "numbers = [1,2,3]\n",
    "myfunction(numbers)\n",
    "print (numbers)\n",
    "```\n",
    "### The identity of the list is the same.\n",
    "\n",
    "Make the code segment to show the identity of the list is the same.\n",
    "\n",
    "- Elaborate the reason why the identity of the list is the same. \n",
    "\n"
   ]
  },
  {
   "cell_type": "code",
   "execution_count": 29,
   "metadata": {},
   "outputs": [
    {
     "name": "stdout",
     "output_type": "stream",
     "text": [
      "[1, 2, 3]\n",
      "ID before the call:  100323968\n",
      "id before modifiying:  100323968\n",
      "id after modifiying:  100323968\n",
      "[100, 2, 3]\n",
      "ID after the call:  100323968\n"
     ]
    }
   ],
   "source": [
    "# Complete the above code segment to show the identity of the list is the same.\n",
    "def myfunction(numbers):\n",
    "\n",
    "    x = id(numbers)      # checking id inside the myfunction before modifying 'numbers'\n",
    "\n",
    "    numbers[0] = 100     # modifying the list numbers (the value of 'numbers' variable) inside the function 'myfunction'\n",
    "\n",
    "    y = id(numbers)  \n",
    "\n",
    "    return x, y  \n",
    "\n",
    "# calling 'myfunction' by passing a list of numbers;\n",
    "numbers = [1, 2, 3]   # the original value of the variable \"numbers\"\n",
    "\n",
    "print(numbers)\n",
    "# checking the ID before the call:\n",
    "print('ID before the call: ', id(numbers) )\n",
    "\n",
    "# checking ids before and after modifiying the list 'numbers':\n",
    "x, y = myfunction(numbers)   \n",
    "print('ID before modifiying: ', x)\n",
    "print('ID after modifiying: ', y)\n",
    "\n",
    "# checking the ID after the call:\n",
    "print(numbers)\n",
    "print('ID after the call: ', id(numbers)) \n",
    "\n",
    "# ALL IDS are same , because lists are mutable data type, change made in place. \n"
   ]
  },
  {
   "cell_type": "markdown",
   "metadata": {},
   "source": [
    "<mark> Save your file by pressing \"Ctrl+S\" or \"git commit -m \"your message\"\" </mark> "
   ]
  },
  {
   "cell_type": "markdown",
   "metadata": {},
   "source": [
    "***\n",
    "\n",
    "## <p style=\"background-color: grey; color: white \"> ◼️  List </p>\n",
    "# <p style=\"font-family: Arial; font-size:1.4em;color:red;\"> 3. Handing the list index out of range error </p>\n"
   ]
  },
  {
   "cell_type": "markdown",
   "metadata": {},
   "source": [
    "#### <p style=\"font-family: Arial; font-size:1.4em; background-color: yellow; color:black;\"> Problem #3.1 </p>"
   ]
  },
  {
   "cell_type": "markdown",
   "metadata": {},
   "source": [
    "## [1] Figure out the index error situation "
   ]
  },
  {
   "cell_type": "markdown",
   "metadata": {},
   "source": [
    "### 1) Error or Not ?\n",
    "\n",
    "```\n",
    "numbers = [1,2,3]\n",
    "numbers[3] = 100\n",
    "```\n",
    "\n",
    "### 2) Error or Not ?\n",
    "```\n",
    "print (numbers[:10])\n",
    "```"
   ]
  },
  {
   "cell_type": "code",
   "execution_count": 34,
   "metadata": {},
   "outputs": [
    {
     "ename": "IndexError",
     "evalue": "list assignment index out of range",
     "output_type": "error",
     "traceback": [
      "\u001b[1;31m---------------------------------------------------------------------------\u001b[0m",
      "\u001b[1;31mIndexError\u001b[0m                                Traceback (most recent call last)",
      "\u001b[1;32m<ipython-input-34-86b8504c2127>\u001b[0m in \u001b[0;36m<module>\u001b[1;34m\u001b[0m\n\u001b[0;32m      2\u001b[0m \u001b[1;31m# 1) ERROR OR NOT:\u001b[0m\u001b[1;33m\u001b[0m\u001b[1;33m\u001b[0m\u001b[1;33m\u001b[0m\u001b[0m\n\u001b[0;32m      3\u001b[0m \u001b[0mnumbers\u001b[0m \u001b[1;33m=\u001b[0m \u001b[1;33m[\u001b[0m\u001b[1;36m1\u001b[0m\u001b[1;33m,\u001b[0m \u001b[1;36m2\u001b[0m\u001b[1;33m,\u001b[0m \u001b[1;36m3\u001b[0m \u001b[1;33m]\u001b[0m\u001b[1;33m\u001b[0m\u001b[1;33m\u001b[0m\u001b[0m\n\u001b[1;32m----> 4\u001b[1;33m \u001b[0mnumbers\u001b[0m\u001b[1;33m[\u001b[0m\u001b[1;36m3\u001b[0m\u001b[1;33m]\u001b[0m \u001b[1;33m=\u001b[0m \u001b[1;36m100\u001b[0m\u001b[1;33m\u001b[0m\u001b[1;33m\u001b[0m\u001b[0m\n\u001b[0m\u001b[0;32m      5\u001b[0m \u001b[1;31m# index error: index out of range.\u001b[0m\u001b[1;33m\u001b[0m\u001b[1;33m\u001b[0m\u001b[1;33m\u001b[0m\u001b[0m\n\u001b[0;32m      6\u001b[0m \u001b[1;33m\u001b[0m\u001b[0m\n",
      "\u001b[1;31mIndexError\u001b[0m: list assignment index out of range"
     ]
    }
   ],
   "source": [
    "# Run the above code segments and figure out the index error situation \n",
    "# 1) ERROR OR NOT:\n",
    "numbers = [1, 2, 3 ]\n",
    "numbers[3] = 100\n",
    "# index error: index out of range.\n",
    "\n",
    "# 2) eERROR OR NOT:\n",
    "print(numbers[:10])  \n",
    "# no error since all the indexes are included between [0:10]. "
   ]
  },
  {
   "cell_type": "code",
   "execution_count": 36,
   "metadata": {},
   "outputs": [
    {
     "ename": "IndexError",
     "evalue": "list index out of range",
     "output_type": "error",
     "traceback": [
      "\u001b[1;31m---------------------------------------------------------------------------\u001b[0m",
      "\u001b[1;31mIndexError\u001b[0m                                Traceback (most recent call last)",
      "\u001b[1;32m<ipython-input-36-2c6f6839c6b2>\u001b[0m in \u001b[0;36m<module>\u001b[1;34m\u001b[0m\n\u001b[0;32m      1\u001b[0m \u001b[0mnumbers\u001b[0m \u001b[1;33m=\u001b[0m \u001b[1;33m[\u001b[0m\u001b[1;36m1\u001b[0m\u001b[1;33m,\u001b[0m\u001b[1;36m2\u001b[0m\u001b[1;33m,\u001b[0m\u001b[1;36m3\u001b[0m\u001b[1;33m]\u001b[0m\u001b[1;33m\u001b[0m\u001b[1;33m\u001b[0m\u001b[0m\n\u001b[1;32m----> 2\u001b[1;33m \u001b[0mprint\u001b[0m \u001b[1;33m(\u001b[0m\u001b[0mnumbers\u001b[0m\u001b[1;33m[\u001b[0m\u001b[1;36m3\u001b[0m\u001b[1;33m]\u001b[0m\u001b[1;33m)\u001b[0m   \u001b[1;31m# index error , since index 3 is greater than the length of numbers,so\u001b[0m\u001b[1;33m\u001b[0m\u001b[1;33m\u001b[0m\u001b[0m\n\u001b[0m\u001b[0;32m      3\u001b[0m \u001b[1;31m# no value exist at the position 3 in the list 'numbers'\u001b[0m\u001b[1;33m\u001b[0m\u001b[1;33m\u001b[0m\u001b[1;33m\u001b[0m\u001b[0m\n\u001b[0;32m      4\u001b[0m \u001b[1;33m\u001b[0m\u001b[0m\n\u001b[0;32m      5\u001b[0m \u001b[0mprint\u001b[0m \u001b[1;33m(\u001b[0m\u001b[0mnumbers\u001b[0m\u001b[1;33m[\u001b[0m\u001b[1;36m1\u001b[0m\u001b[1;33m:\u001b[0m\u001b[1;36m10\u001b[0m\u001b[1;33m]\u001b[0m\u001b[1;33m)\u001b[0m  \u001b[1;31m# no index error\u001b[0m\u001b[1;33m\u001b[0m\u001b[1;33m\u001b[0m\u001b[0m\n",
      "\u001b[1;31mIndexError\u001b[0m: list index out of range"
     ]
    }
   ],
   "source": [
    "numbers = [1,2,3]\n",
    "print (numbers[3])   # index error , since index 3 is greater than the length of numbers,so\n",
    "# no value exist at the position 3 in the list 'numbers' \n",
    "\n",
    "print (numbers[1:10])  # no index error, sinec all elements at index 1 and greater than 1 exists.    "
   ]
  },
  {
   "cell_type": "markdown",
   "metadata": {},
   "source": [
    "#### <p style=\"font-family: Arial; font-size:1.4em; background-color: yellow; color:black;\"> Problem #3.2 </p>"
   ]
  },
  {
   "cell_type": "markdown",
   "metadata": {},
   "source": [
    "## [2] Handling the index error situation with the try-except statement"
   ]
  },
  {
   "cell_type": "markdown",
   "metadata": {},
   "source": [
    "### Understanding the try-except statement\n",
    "\n",
    "``` Basic Syntax of the try-except statement\n",
    "try:\n",
    "    # Code block where exception might occur\n",
    "    # Your code here\n",
    "except ExceptionType as e:\n",
    "    # Code block to execute if an exception occurs\n",
    "    # Your code here\n",
    "else:\n",
    "    # Code block to execute if no exception occurs\n",
    "    # Your code here\n",
    "```\n",
    "\n"
   ]
  },
  {
   "cell_type": "markdown",
   "metadata": {},
   "source": [
    "#### Example 1"
   ]
  },
  {
   "cell_type": "code",
   "execution_count": 37,
   "metadata": {},
   "outputs": [
    {
     "name": "stdout",
     "output_type": "stream",
     "text": [
      "list index out of range\n"
     ]
    }
   ],
   "source": [
    "#Example \n",
    "numbers = [1,2,3]\n",
    "try:\n",
    "    print (numbers[3])   # exception occur at this line of code\n",
    "except Exception as e:\n",
    "    print (e)\n"
   ]
  },
  {
   "cell_type": "markdown",
   "metadata": {},
   "source": [
    "#### Example 2"
   ]
  },
  {
   "cell_type": "code",
   "execution_count": 11,
   "metadata": {},
   "outputs": [
    {
     "name": "stdout",
     "output_type": "stream",
     "text": [
      "IndexError: list index out of range\n"
     ]
    }
   ],
   "source": [
    "# Example 2\n",
    "numbers = [1,2,3]\n",
    "try:\n",
    "    print (numbers[10])   # exception occur at this line of code\n",
    "    \n",
    "except IndexError:        # catch the exception\n",
    "\n",
    "    print ('IndexError: list index out of range')\n",
    "else:\n",
    "    print ('No error')    # code to execute if no exception occur\n",
    "\n",
    "\n"
   ]
  },
  {
   "cell_type": "markdown",
   "metadata": {},
   "source": [
    "## Main Adavatage of the try-except statement\n",
    "\n",
    "#### Die or Alive\n",
    "\n",
    "- In error situation, the program is not terminated. \n",
    "- The program can continue to run. \n",
    "\n",
    "\n",
    "\n"
   ]
  },
  {
   "cell_type": "markdown",
   "metadata": {},
   "source": [
    "## Error Keywords\n",
    "[Python Official Document for Errores and exception](https://docs.python.org/3/tutorial/errors.html)\n",
    "```\n",
    "Types of Exceptions\n",
    "Python has several built-in exception types. Some common ones include:\n",
    "- SyntaxError: Raised when there's a syntax error in the code.\n",
    "- NameError: Raised when a variable is not found in the local or global scope.\n",
    "- TypeError: Raised when an operation is performed on an inappropriate type.\n",
    "- ValueError: Raised when a function receives an argument of the correct type but an inappropriate value.\n",
    "- ZeroDivisionError: Raised when division or modulo by zero is performed.\n",
    "```\n",
    "\n"
   ]
  },
  {
   "cell_type": "markdown",
   "metadata": {},
   "source": [
    "#### <p style=\"font-family: Arial; font-size:1.4em; background-color: yellow; color:black;\"> Problem #3.3 </p>"
   ]
  },
  {
   "cell_type": "markdown",
   "metadata": {},
   "source": [
    "### Make the code segment to handle the index error situation with the try-except statement \n",
    "- There is 100 elements in the list numbers\n",
    "- A user will pick an index of the element in the list\n",
    "- Your program will print out the element in the list at the picked index \n",
    "- If the index is out of range, the program will print out the error message \"IndexError: list index out of range\". Use the try-except statement to handle the error.\n",
    "- If the index is valid, the program will print out the element in the list at the picked index \n",
    "\n"
   ]
  },
  {
   "cell_type": "code",
   "execution_count": 38,
   "metadata": {},
   "outputs": [
    {
     "name": "stdout",
     "output_type": "stream",
     "text": [
      "[63, 23, 55, 41, 30, 40, 31, 13, 95, 9, 97, 13, 59, 87, 16, 100, 14, 26, 68, 16, 52, 89, 10, 80, 14, 64, 15, 38, 11, 3, 74, 61, 50, 94, 75, 65, 42, 42, 52, 49, 76, 91, 52, 91, 31, 49, 69, 94, 27, 17, 82, 100, 60, 28, 73, 13, 100, 50, 76, 62, 18, 8, 92, 54, 54, 3, 34, 39, 68, 57, 70, 49, 12, 81, 26, 46, 60, 60, 25, 16, 25, 78, 87, 75, 60, 7, 19, 85, 71, 36, 14, 47, 50, 22, 40, 53, 12, 93, 96, 40]\n",
      "list index out of range.\n"
     ]
    }
   ],
   "source": [
    "import random\n",
    "\n",
    "numbers = [random.randint(1,100) for _ in range(100)] \n",
    "print (numbers) \n",
    "#**************************************************** \n",
    "# code here\n",
    "#****************************************************/\n",
    "\n",
    "# user input:\n",
    "user_iput = int(input('enter index of the number you want to print: '))\n",
    "\n",
    "# print the element at the choosen index, using try-except statements:\n",
    "try:\n",
    "\n",
    "   print(numbers[user_iput])    # in this line of code where error can be occur\n",
    "\n",
    "except IndexError:      # catch the exception\n",
    "\n",
    "    print(\"list index out of range.\")   # printing error if any. "
   ]
  },
  {
   "cell_type": "markdown",
   "metadata": {},
   "source": [
    "<mark> Save your file by pressing \"Ctrl+S\" or \"git commit -m \"your message\"\" </mark> "
   ]
  },
  {
   "cell_type": "markdown",
   "metadata": {},
   "source": [
    "***\n",
    "\n",
    "## <p style=\"background-color: grey; color: white \"> ◼️  List </p>\n",
    "# <p style=\"font-family: Arial; font-size:1.4em;color:red;\"> 4. List of List \n",
    "\n"
   ]
  },
  {
   "cell_type": "markdown",
   "metadata": {},
   "source": [
    "#### <p style=\"font-family: Arial; font-size:1.4em; background-color: yellow; color:black;\"> Problem #4.1 </p>"
   ]
  },
  {
   "cell_type": "markdown",
   "metadata": {},
   "source": [
    "## There are students records in the list \"students\". \n",
    "```\n",
    "- The Student record consists of the student name, age, and the list of scores in Math, Science, and English\n",
    "- Make a function to print out the student record in the following format\n",
    "-- No return value. Use the same list of students. Do not create a new list. \n",
    "- Name: <student name> - Age: <student age> - Scores: <list of scores> - Total Score: <total score> - Average Score: <average score>\n",
    "- The function will take the list of students as an input and print out the student record for each student in the list\n",
    "\n",
    "students = [\n",
    "    [\"John\", 20, [80, 85, 90]],\n",
    "    [\"Jane\", 21, [82, 86, 89]],\n",
    "    [\"Doe\", 22, [84, 88, 92]]\n",
    "]\n",
    "```"
   ]
  },
  {
   "cell_type": "code",
   "execution_count": null,
   "metadata": {},
   "outputs": [],
   "source": [
    "def print_student_record(students):\n",
    "    ################################################### \n",
    "    # code here\n",
    "    # Name: John - Age: 20 - Scores: [80, 85, 90] - Total Score: 255 - Average Score: 85.0\n",
    "    # Name: Jane - Age: 21 - Scores: [82, 86, 89] - Total Score: 257 - Average Score: 85.67\n",
    "    # ...\n",
    "    ################################################### \n",
    "    print (\"**********************************************************************\")\n",
    "    for student in students:\n",
    "        print (f\"Name: {student[0]} - Age: {student[1]} - Scores: {student[2]} - Total Score: {sum(student[2])} - Average Score: {sum(student[2])/len(student[2])}\")\n",
    "\n",
    "    \n",
    "\n",
    "students = [\n",
    "    [\"John\", 20, [80, 85, 90]],\n",
    "    [\"Jane\", 21, [82, 86, 89]],\n",
    "    [\"Doe\", 22, [84, 88, 92]],\n",
    "    ['Kim', 23, [85, 89, 91]],\n",
    "    ['Lee', 24, [86, 90, 93]],\n",
    "    ['Alex', 25, [87, 91, 94]],\n",
    "    ['Kyle', 26, [88, 92, 95]],\n",
    "    ['Jenny', 27, [89, 93, 96]],\n",
    "    ['Jake', 28, [90, 94, 97]],\n",
    "    ['Jessica', 29, [91, 95, 98]],\n",
    "    ['Josh', 30, [92, 96, 99]],\n",
    "    ['Jill', 31, [93, 97, 100]] ]\n",
    "\n",
    "print_student_record(students)\n",
    "\n",
    "\n"
   ]
  },
  {
   "cell_type": "markdown",
   "metadata": {},
   "source": [
    "## Make the function \"sort_students\" to sort the students by the the following criteria\n",
    "\n",
    "- Key = 1: Sort the students by the total score\n",
    "- Key = 2: Sort the students by the age \n",
    "- Key = 3: Sort the students by the name \n",
    "- Ascending = True: Sort in ascending order\n",
    "- Ascending = False: Sort in descending order\n",
    "```\n",
    "def sort_students(students, key, ascending):\n",
    "    ################################################### \n",
    "    # code here\n",
    "    ################################################### \n",
    "\n",
    "```\n"
   ]
  },
  {
   "cell_type": "code",
   "execution_count": null,
   "metadata": {},
   "outputs": [],
   "source": [
    "def sort_students(students, key, ascending):\n",
    "    ################################################### \n",
    "    # code here\n",
    "    ################################################### \n",
    "\n",
    "\n",
    "\n",
    "print_student_record(students)\n",
    "sort_students(students, 1, True)\n",
    "print_student_record(students)\n",
    "sort_students(students, 2, False)\n",
    "print_student_record(students)\n",
    "sort_students(students, 3, True)\n",
    "print_student_record(students)\n"
   ]
  },
  {
   "cell_type": "markdown",
   "metadata": {},
   "source": [
    "#### <p style=\"font-family: Arial; font-size:1.4em; background-color: yellow; color:black;\"> Problem #4.2 </p>"
   ]
  },
  {
   "cell_type": "markdown",
   "metadata": {},
   "source": [
    "## Make the function \"reconstruct_list(rows, cols)\" that reconstructs the list of integers in the following way\n",
    "#### Return value: new list of list of integers\n",
    "\n",
    "- numbers = [ 1, 2, 3, 4, 5, 6, 7, 8, 9, 10, 11, 12, 13, 14, 15, 16, 17, 18, 19, 20, 21, 22, 23, 24] \n",
    "- reconstruct_list(rows, cols) will reform the list of list of integers with the number of rows and columns\n",
    "- For example, if rows = 4 and cols = 6, the function will return the following list of list of integers\n",
    "- numbers = [ [1, 2, 3, 4, 5, 6], [7, 8, 9, 10, 11, 12], [13, 14, 15, 16, 17, 18], [19, 20, 21, 22, 23, 24] ]\n",
    "- For example if rows = 2 and cols = 12,\n",
    "- numbers = [ [1, 2, 3, 4, 5, 6, 7, 8, 9, 10, 11, 12], [13, 14, 15, 16, 17, 18, 19, 20, 21, 22, 23, 24] ]\n",
    "- For example if rows = 8 and cols = 3, \n",
    "- numbers = [ [1, 2, 3], [4, 5, 6], [7, 8, 9], [10, 11, 12], [13, 14, 15], [16, 17, 18], [19, 20, 21], [22, 23, 24] ]\n",
    "```\n",
    "def reconstruct_list(numbers, rows, cols):\n",
    "    ################################################### \n",
    "    # code here\n",
    "    ################################################### \n",
    "\n",
    "```\n"
   ]
  },
  {
   "cell_type": "code",
   "execution_count": null,
   "metadata": {},
   "outputs": [],
   "source": [
    "def reconstruct_list(numbers, rows, cols):\n",
    "    ################################################### \n",
    "    # code here\n",
    "    ################################################### \n",
    "\n",
    "numbers = [ 1, 2, 3, 4, 5, 6, 7, 8, 9, 10, 11, 12, 13, 14, 15, 16, 17, 18, 19, 20, 21, 22, 23, 24] \n",
    "new_numbers = reconstruct_list(numbers, 4, 6)\n",
    "print (new_numbers)"
   ]
  },
  {
   "cell_type": "markdown",
   "metadata": {},
   "source": [
    "<mark> Save your file by pressing \"Ctrl+S\" or \"git commit -m \"your message\"\" </mark> "
   ]
  },
  {
   "cell_type": "markdown",
   "metadata": {},
   "source": [
    "***\n",
    "\n",
    "## <p style=\"background-color: grey; color: white \"> ◼️  List </p>\n",
    "# <p style=\"font-family: Arial; font-size:1.4em;color:red;\"> 5. any() and all() \n",
    "\n"
   ]
  },
  {
   "cell_type": "markdown",
   "metadata": {},
   "source": [
    "Use the any() and all() functions to check the elements in the list\n",
    "\n",
    "#### <p style=\"font-family: Arial; font-size:1.4em; background-color: yellow; color:black;\"> Problem #5.1 </p>\n",
    "\n",
    "#### Run the following code segment and figure out the output of the code segment"
   ]
  },
  {
   "cell_type": "code",
   "execution_count": null,
   "metadata": {},
   "outputs": [],
   "source": [
    "numbers = [1, 2, 3, 4, 5, 6, 7, 8, 9, 10]\n",
    "\n",
    "any( x % 2 == 0 for x in numbers)"
   ]
  },
  {
   "cell_type": "code",
   "execution_count": null,
   "metadata": {},
   "outputs": [],
   "source": [
    "all ( x > 0 for x in numbers)"
   ]
  },
  {
   "cell_type": "markdown",
   "metadata": {},
   "source": [
    "Use the any() and all() functions to check the elements in the list\n",
    "\n",
    "#### <p style=\"font-family: Arial; font-size:1.4em; background-color: yellow; color:black;\"> Problem #5.2</p>\n",
    "\n",
    "#### Make the function isSubset(numbers1, numbers2) to check if the numbers1 is a subset of numbers2 \n",
    "- Return True if the numbers1 is a subset of numbers2\n",
    "- Return False otherwise\n",
    "- Use the any() and all() functions to check the elements in the list\n"
   ]
  },
  {
   "cell_type": "code",
   "execution_count": null,
   "metadata": {},
   "outputs": [],
   "source": [
    "def isSubset(numbers1, numbers2):\n",
    "    ################################################### \n",
    "    # code here\n",
    "    ################################################### \n",
    "    \n",
    "\n",
    "numbers1 = [1, 2, 3]\n",
    "numbers2 = [1, 2, 3, 4, 5, 6, 7, 8, 9, 10]\n",
    "print (isSubset(numbers1, numbers2))\n",
    "\n"
   ]
  },
  {
   "cell_type": "markdown",
   "metadata": {},
   "source": [
    "<mark> Save your file by pressing \"Ctrl+S\" or \"git commit -m \"your message\"\" </mark> "
   ]
  }
 ],
 "metadata": {
  "kernelspec": {
   "display_name": "Python 3.8.5 ('base')",
   "language": "python",
   "name": "python3"
  },
  "language_info": {
   "codemirror_mode": {
    "name": "ipython",
    "version": 3
   },
   "file_extension": ".py",
   "mimetype": "text/x-python",
   "name": "python",
   "nbconvert_exporter": "python",
   "pygments_lexer": "ipython3",
   "version": "3.8.5"
  },
  "orig_nbformat": 4,
  "vscode": {
   "interpreter": {
    "hash": "ad2bdc8ecc057115af97d19610ffacc2b4e99fae6737bb82f5d7fb13d2f2c186"
   }
  }
 },
 "nbformat": 4,
 "nbformat_minor": 2
}
